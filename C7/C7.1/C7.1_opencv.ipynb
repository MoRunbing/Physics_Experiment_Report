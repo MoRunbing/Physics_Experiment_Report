{
 "cells": [
  {
   "cell_type": "markdown",
   "metadata": {},
   "source": [
    "### C7.1"
   ]
  },
  {
   "cell_type": "code",
   "execution_count": 15,
   "metadata": {},
   "outputs": [],
   "source": [
    "import cv2\n",
    "import os"
   ]
  },
  {
   "cell_type": "code",
   "execution_count": 20,
   "metadata": {},
   "outputs": [
    {
     "name": "stdout",
     "output_type": "stream",
     "text": [
      "150_4.bmp\n",
      "11047.0\n",
      "37811.0\n",
      "35669.5\n",
      "38024.5\n",
      "15436.0\n",
      "30731.5\n",
      "72923.5\n",
      "588652.0\n",
      "45427.0\n",
      "48x64_2X.bmp\n",
      "53485.5\n",
      "60707.0\n",
      "76097.0\n",
      "48x64_4X.tif\n",
      "155270.5\n",
      "120623.5\n",
      "122416.0\n",
      "50_4.bmp\n",
      "27571.0\n",
      "25732.0\n",
      "50329.5\n",
      "53179.0\n",
      "70_2.bmp\n",
      "70_4.bmp\n",
      "11162.0\n",
      "31225.0\n",
      "27659.0\n",
      "70_6.bmp\n",
      "10333.0\n",
      "496092.5\n"
     ]
    }
   ],
   "source": [
    "file_pathname=\"D:\\LaTeX\\physics experiment\\C7\\C7.1\"\n",
    "\n",
    "def read_path(file_pathname):\n",
    "    #遍历该目录下的所有图片文件\n",
    "    for filename in os.listdir(file_pathname):\n",
    "        print(filename)\n",
    "        image = cv2.imread(file_pathname+'/'+filename)\n",
    "\n",
    "        gray = cv2.cvtColor(image,cv2.COLOR_BGR2GRAY)\n",
    "        # cv2.imshow('1',gray)\n",
    "        bilateral = cv2.bilateralFilter(gray,15,75,75)\n",
    "        thresh = cv2.GaussianBlur(bilateral,(3,3),0)\n",
    "\n",
    "        for i in range(5):\n",
    "            thresh = cv2.GaussianBlur(thresh,(3,3),0)\n",
    "            dilated = cv2.dilate(thresh, (1, 1), iterations=1)\n",
    "\n",
    "        ret, thresh = cv2.threshold(dilated, 50, 255, cv2.THRESH_BINARY) # 阈值处理 二值化 用150不用255是因为有些细胞就直接变白\n",
    "        thresh = cv2.GaussianBlur(thresh,(3,3),0)# 高斯滤波\n",
    "\n",
    "        canny = cv2.Canny(thresh, 10, 200, 3)\n",
    "\n",
    "        cnts = cv2.findContours(canny, cv2.RETR_EXTERNAL, cv2.CHAIN_APPROX_SIMPLE)\n",
    "        cnts = cnts[0] if len(cnts) == 2 else cnts[1]\n",
    "\n",
    "        minimum_area = 10000 # 过滤掉小圈\n",
    "\n",
    "        for c in cnts:\n",
    "            area = cv2.contourArea(c)\n",
    "            if area > minimum_area:\n",
    "                draw = cv2.drawContours(image, [c], -1, (0,255,0), 2)\n",
    "                print(area)\n",
    "                \n",
    "        cv2.imwrite(\"D:\\LaTeX\\physics experiment\\C7\\Fig\"+\"/\"+filename[:-4:1]+\" ref\"+\".bmp\",draw) \n",
    "read_path(\"D:\\LaTeX\\physics experiment\\C7\\C7.1\")\n"
   ]
  }
 ],
 "metadata": {
  "interpreter": {
   "hash": "12ce8fd55462489f929577635ff1bd60e1310207cd635c89cb69d15d06d92651"
  },
  "kernelspec": {
   "display_name": "Python 3.9.7 ('base')",
   "language": "python",
   "name": "python3"
  },
  "language_info": {
   "codemirror_mode": {
    "name": "ipython",
    "version": 3
   },
   "file_extension": ".py",
   "mimetype": "text/x-python",
   "name": "python",
   "nbconvert_exporter": "python",
   "pygments_lexer": "ipython3",
   "version": "3.9.7"
  },
  "orig_nbformat": 4
 },
 "nbformat": 4,
 "nbformat_minor": 2
}
