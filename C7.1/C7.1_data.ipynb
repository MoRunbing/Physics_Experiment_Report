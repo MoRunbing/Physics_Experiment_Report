{
 "cells": [
  {
   "cell_type": "markdown",
   "metadata": {},
   "source": [
    "# C7.1"
   ]
  },
  {
   "cell_type": "code",
   "execution_count": 1,
   "metadata": {},
   "outputs": [],
   "source": [
    "import numpy as np \n",
    "import pandas as pd\n",
    "import matplotlib.pyplot as plt\n",
    "import seaborn as sns\n",
    "import sympy as sp"
   ]
  },
  {
   "cell_type": "markdown",
   "metadata": {},
   "source": [
    "## Distortion"
   ]
  },
  {
   "cell_type": "code",
   "execution_count": 2,
   "metadata": {},
   "outputs": [
    {
     "data": {
      "text/plain": [
       "{'Checker_x_p': 1024.0,\n",
       " 'Checker_y_p': 768.0,\n",
       " 'Checker_A_x_g': 8.0,\n",
       " 'Checker_A_y_g': 6.0,\n",
       " 'Checker_B_x_g': 64.0,\n",
       " 'Checker_B_y_g': 48.0,\n",
       " 'SLM_d': 26.0,\n",
       " 'CCD_d': 3.2,\n",
       " 'A_hx_pergrid': 3328.0,\n",
       " 'A_hy_pergrid': 3328.0,\n",
       " 'B_hx_pergrid': 416.0,\n",
       " 'B_hy_pergrid': 416.0}"
      ]
     },
     "execution_count": 2,
     "metadata": {},
     "output_type": "execute_result"
    }
   ],
   "source": [
    "df_par = pd.read_csv('Input/Par.csv')\n",
    "par = dict(zip(df_par[\"Par\"], df_par[\"Val\"]))\n",
    "par[\"A_hx_pergrid\"] = par[\"Checker_x_p\"]*par[\"SLM_d\"]/par[\"Checker_A_x_g\"] # x-orientation Side length per grid of Checker A\n",
    "par[\"A_hy_pergrid\"] = par[\"Checker_y_p\"]*par[\"SLM_d\"]/par[\"Checker_A_y_g\"] # y-orientation Side length per grid of Checker A\n",
    "\n",
    "par[\"B_hx_pergrid\"] = par[\"Checker_x_p\"]*par[\"SLM_d\"]/par[\"Checker_B_x_g\"] # x-orientation Side length per grid of Checker B\n",
    "par[\"B_hy_pergrid\"] = par[\"Checker_y_p\"]*par[\"SLM_d\"]/par[\"Checker_B_y_g\"] # y-orientation Side length per grid of Checker B\n",
    "par"
   ]
  },
  {
   "cell_type": "code",
   "execution_count": 3,
   "metadata": {},
   "outputs": [],
   "source": [
    "df2 = pd.read_csv('Input/Distortion.csv')\n",
    "\n",
    "# ideal image height \n",
    "df2[\"X_h1\"] = df2.apply(lambda x: x.X_g*par[\"A_hx_pergrid\"]*x.beta if x.Checker == \"A\" else x.X_g*par[\"B_hx_pergrid\"]*x.beta, axis=1) # X-orientation ideal image height \n",
    "df2[\"Y_h1\"] = df2.apply(lambda x: x.Y_g*par[\"A_hy_pergrid\"]*x.beta if x.Checker == \"A\" else x.Y_g*par[\"B_hy_pergrid\"]*x.beta, axis=1) # Y-orientation ideal image height\n",
    "\n",
    "df2[\"XY_h1x\"] = df2.apply(lambda x: x.XY_g*par[\"A_hx_pergrid\"]*x.beta if x.Checker == \"A\" else x.XY_g*par[\"B_hx_pergrid\"]*x.beta, axis=1) # X-orientation ideal image height \n",
    "df2[\"XY_h1y\"] = df2.apply(lambda x: x.XY_g*par[\"A_hy_pergrid\"]*x.beta if x.Checker == \"A\" else x.XY_g*par[\"B_hy_pergrid\"]*x.beta, axis=1) # Y-orientation ideal image height\n",
    "\n",
    "# actual image height\n",
    "df2[\"X_h2\"] = (df2[\"X_x_p\"]-df2[\"Center_x_p\"])*par[\"CCD_d\"] # X-orientation actual image height \n",
    "df2[\"Y_h2\"] = -(df2[\"Y_y_p\"]-df2[\"Center_y_p\"])*par[\"CCD_d\"] # Y-orientation actual image height\n",
    "\n",
    "df2[\"XY_h2x\"] = (df2[\"XY_x_p\"]-df2[\"Center_x_p\"])*par[\"CCD_d\"] # XY-orientation actual image height (x comp.)\n",
    "df2[\"XY_h2y\"] = -(df2[\"XY_y_p\"]-df2[\"Center_y_p\"])*par[\"CCD_d\"] # XY-orientation actual image height (y comp.)\n",
    "\n",
    "# Diff\n",
    "df2[\"X_dh\"] = df2[\"X_h2\"].abs() - df2[\"X_h1\"].abs() # X-orientation Diff \n",
    "df2[\"Y_dh\"] = df2[\"Y_h2\"].abs() - df2[\"Y_h1\"].abs() # Y-orientation Diff\n",
    "\n",
    "df2[\"XY_dhx\"] = df2[\"XY_h2x\"].abs() - df2[\"XY_h1x\"].abs() # XY-orientation Diff (x comp.)\n",
    "df2[\"XY_dhy\"] = df2[\"XY_h2y\"].abs() - df2[\"XY_h1y\"].abs() # XY-orientation Diff (y comp.)\n",
    "\n",
    "# Distortion q\n",
    "df2[\"X_q\"] = (df2[\"X_dh\"]/df2[\"X_h1\"]).map(lambda x:format(x, '.2%')) # X-orientation Distortion q\n",
    "df2[\"Y_q\"] = (df2[\"Y_dh\"]/df2[\"Y_h1\"]).map(lambda x:format(x, '.2%')) # Y-orientation Distortion q\n",
    "\n",
    "df2[\"XY_qx\"] = (df2[\"XY_dhx\"]/df2[\"XY_h1x\"]).map(lambda x:format(x, '.2%')) # XY-orientation Distortion q (x comp.)\n",
    "df2[\"XY_qy\"] = (df2[\"XY_dhy\"]/df2[\"XY_h1y\"]).map(lambda x:format(x, '.2%')) # XY-orientation Distortion q (y comp.)"
   ]
  },
  {
   "cell_type": "code",
   "execution_count": 4,
   "metadata": {},
   "outputs": [
    {
     "data": {
      "text/html": [
       "<div>\n",
       "<style scoped>\n",
       "    .dataframe tbody tr th:only-of-type {\n",
       "        vertical-align: middle;\n",
       "    }\n",
       "\n",
       "    .dataframe tbody tr th {\n",
       "        vertical-align: top;\n",
       "    }\n",
       "\n",
       "    .dataframe thead th {\n",
       "        text-align: right;\n",
       "    }\n",
       "</style>\n",
       "<table border=\"1\" class=\"dataframe\">\n",
       "  <thead>\n",
       "    <tr style=\"text-align: right;\">\n",
       "      <th></th>\n",
       "      <th>Lab</th>\n",
       "      <th>X_dh</th>\n",
       "      <th>Y_dh</th>\n",
       "      <th>XY_dhx</th>\n",
       "      <th>XY_dhy</th>\n",
       "      <th>X_q</th>\n",
       "      <th>Y_q</th>\n",
       "      <th>XY_qx</th>\n",
       "      <th>XY_qy</th>\n",
       "    </tr>\n",
       "  </thead>\n",
       "  <tbody>\n",
       "    <tr>\n",
       "      <th>0</th>\n",
       "      <td>150_4</td>\n",
       "      <td>3.200</td>\n",
       "      <td>22.400</td>\n",
       "      <td>0.000</td>\n",
       "      <td>-25.600</td>\n",
       "      <td>0.19%</td>\n",
       "      <td>1.35%</td>\n",
       "      <td>0.00%</td>\n",
       "      <td>-2.05%</td>\n",
       "    </tr>\n",
       "    <tr>\n",
       "      <th>1</th>\n",
       "      <td>70_4</td>\n",
       "      <td>169.600</td>\n",
       "      <td>176.000</td>\n",
       "      <td>131.200</td>\n",
       "      <td>131.200</td>\n",
       "      <td>10.19%</td>\n",
       "      <td>10.58%</td>\n",
       "      <td>10.51%</td>\n",
       "      <td>10.51%</td>\n",
       "    </tr>\n",
       "    <tr>\n",
       "      <th>2</th>\n",
       "      <td>50_4</td>\n",
       "      <td>246.400</td>\n",
       "      <td>124.800</td>\n",
       "      <td>182.400</td>\n",
       "      <td>128.000</td>\n",
       "      <td>14.81%</td>\n",
       "      <td>7.50%</td>\n",
       "      <td>14.62%</td>\n",
       "      <td>10.26%</td>\n",
       "    </tr>\n",
       "    <tr>\n",
       "      <th>3</th>\n",
       "      <td>70_2</td>\n",
       "      <td>-57.600</td>\n",
       "      <td>-32.000</td>\n",
       "      <td>-38.400</td>\n",
       "      <td>19.200</td>\n",
       "      <td>-3.46%</td>\n",
       "      <td>-1.92%</td>\n",
       "      <td>-2.31%</td>\n",
       "      <td>1.15%</td>\n",
       "    </tr>\n",
       "    <tr>\n",
       "      <th>4</th>\n",
       "      <td>70_6</td>\n",
       "      <td>191.104</td>\n",
       "      <td>95.104</td>\n",
       "      <td>150.528</td>\n",
       "      <td>128.128</td>\n",
       "      <td>17.30%</td>\n",
       "      <td>8.61%</td>\n",
       "      <td>18.16%</td>\n",
       "      <td>15.46%</td>\n",
       "    </tr>\n",
       "    <tr>\n",
       "      <th>5</th>\n",
       "      <td>48x64_2X</td>\n",
       "      <td>140.800</td>\n",
       "      <td>137.600</td>\n",
       "      <td>83.200</td>\n",
       "      <td>96.000</td>\n",
       "      <td>8.46%</td>\n",
       "      <td>8.27%</td>\n",
       "      <td>6.67%</td>\n",
       "      <td>7.69%</td>\n",
       "    </tr>\n",
       "    <tr>\n",
       "      <th>6</th>\n",
       "      <td>48x64_4X</td>\n",
       "      <td>-422.400</td>\n",
       "      <td>-441.600</td>\n",
       "      <td>-422.400</td>\n",
       "      <td>-441.600</td>\n",
       "      <td>-25.38%</td>\n",
       "      <td>-26.54%</td>\n",
       "      <td>-25.38%</td>\n",
       "      <td>-26.54%</td>\n",
       "    </tr>\n",
       "  </tbody>\n",
       "</table>\n",
       "</div>"
      ],
      "text/plain": [
       "        Lab     X_dh     Y_dh   XY_dhx   XY_dhy      X_q      Y_q    XY_qx  \\\n",
       "0     150_4    3.200   22.400    0.000  -25.600    0.19%    1.35%    0.00%   \n",
       "1      70_4  169.600  176.000  131.200  131.200   10.19%   10.58%   10.51%   \n",
       "2      50_4  246.400  124.800  182.400  128.000   14.81%    7.50%   14.62%   \n",
       "3      70_2  -57.600  -32.000  -38.400   19.200   -3.46%   -1.92%   -2.31%   \n",
       "4      70_6  191.104   95.104  150.528  128.128   17.30%    8.61%   18.16%   \n",
       "5  48x64_2X  140.800  137.600   83.200   96.000    8.46%    8.27%    6.67%   \n",
       "6  48x64_4X -422.400 -441.600 -422.400 -441.600  -25.38%  -26.54%  -25.38%   \n",
       "\n",
       "     XY_qy  \n",
       "0   -2.05%  \n",
       "1   10.51%  \n",
       "2   10.26%  \n",
       "3    1.15%  \n",
       "4   15.46%  \n",
       "5    7.69%  \n",
       "6  -26.54%  "
      ]
     },
     "execution_count": 4,
     "metadata": {},
     "output_type": "execute_result"
    }
   ],
   "source": [
    "df2[[\"Lab\", \"X_dh\", \"Y_dh\", \"XY_dhx\", \"XY_dhy\", \"X_q\", \"Y_q\", \"XY_qx\", \"XY_qy\"]]"
   ]
  },
  {
   "cell_type": "code",
   "execution_count": 6,
   "metadata": {},
   "outputs": [],
   "source": [
    "df2.to_csv('Output/Distortion.csv', index=False)"
   ]
  }
 ],
 "metadata": {
  "interpreter": {
   "hash": "12ce8fd55462489f929577635ff1bd60e1310207cd635c89cb69d15d06d92651"
  },
  "kernelspec": {
   "display_name": "Python 3.9.7 ('base')",
   "language": "python",
   "name": "python3"
  },
  "language_info": {
   "codemirror_mode": {
    "name": "ipython",
    "version": 3
   },
   "file_extension": ".py",
   "mimetype": "text/x-python",
   "name": "python",
   "nbconvert_exporter": "python",
   "pygments_lexer": "ipython3",
   "version": "3.9.7"
  },
  "orig_nbformat": 4
 },
 "nbformat": 4,
 "nbformat_minor": 2
}
